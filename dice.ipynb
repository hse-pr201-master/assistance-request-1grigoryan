{
 "cells": [
  {
   "cell_type": "markdown",
   "metadata": {},
   "source": [
    "Тут код для первой задачки"
   ]
  },
  {
   "cell_type": "code",
   "execution_count": 1,
   "metadata": {},
   "outputs": [],
   "source": [
    "import numpy as np\n",
    "from scipy.stats import chi2"
   ]
  },
  {
   "cell_type": "markdown",
   "metadata": {},
   "source": [
    "Тут посчитаем, сколько раз выпадает каждая комбинация. Провернем $10^5$ симуляций:"
   ]
  },
  {
   "cell_type": "code",
   "execution_count": 2,
   "metadata": {},
   "outputs": [],
   "source": [
    "res = np.array([0 for i in range(6)])\n",
    "sides = np.array([i + 1 for i in range(6)])\n",
    "prob = np.array([i + 1 for i in range(6)])\n",
    "prob = prob / np.sum(prob)\n",
    "for i in range(100000):\n",
    "    a = np.array([])\n",
    "    while len(np.unique(a)) < 3:\n",
    "        a = np.random.choice(sides, p = prob, size = 3)\n",
    "    a = np.argsort(a)\n",
    "    if a[0] == 0:\n",
    "        if a[1] == 1:\n",
    "            res[0] += 1\n",
    "        else:\n",
    "            res[1] += 1\n",
    "    elif a[0] == 1:\n",
    "        if a[1] == 0:\n",
    "            res[2] += 1\n",
    "        else:\n",
    "            res[3] += 1\n",
    "    else:\n",
    "        if a[1] == 0:\n",
    "            res[4] += 1\n",
    "        else:\n",
    "            res[5] += 1"
   ]
  },
  {
   "cell_type": "markdown",
   "metadata": {},
   "source": [
    "Получим вот такое распределение наших комбинаций:"
   ]
  },
  {
   "cell_type": "code",
   "execution_count": 3,
   "metadata": {},
   "outputs": [
    {
     "data": {
      "text/plain": [
       "array([16729, 16658, 16762, 16557, 16684, 16610])"
      ]
     },
     "execution_count": 3,
     "metadata": {},
     "output_type": "execute_result"
    }
   ],
   "source": [
    "res"
   ]
  },
  {
   "cell_type": "markdown",
   "metadata": {},
   "source": [
    "Проверим гипотезу о том, что вероятности выпадения равны между собой:\n",
    "\n",
    "$H_0$: $p_1 = p_2 = ... = p_6 = \\tfrac{1}{6}$\n",
    "\n",
    "$H_1$: $\\sum\\limits_{k = 1}^{6} (p_k - \\tfrac{1}{6})^2 > 0$\n",
    "\n",
    "Для этого применим LR-тест."
   ]
  },
  {
   "cell_type": "code",
   "execution_count": 4,
   "metadata": {},
   "outputs": [],
   "source": [
    "def hypo(x: np.array, alpha: float):\n",
    "    cnt = np.sum(x * (2 * np.log(x / np.sum(x)) - 2 * np.log(1/6)))\n",
    "    crit = chi2.ppf(1 - alpha, 5)\n",
    "    print('Расчетная статистика равна {}'.format(cnt))\n",
    "    print('Критическая статистика равна {}'.format(crit))\n",
    "    p = 1 - chi2.cdf(cnt, 5)\n",
    "    print('p-value = {}'.format(p))\n",
    "    if cnt < crit:\n",
    "        print('Нет оснований отвергать нулевую гипотезу')\n",
    "    else:\n",
    "        print('Нулевая гипотеза отвергается')"
   ]
  },
  {
   "cell_type": "code",
   "execution_count": 5,
   "metadata": {
    "scrolled": true
   },
   "outputs": [
    {
     "name": "stdout",
     "output_type": "stream",
     "text": [
      "Расчетная статистика равна 1.7157143710390272\n",
      "Критическая статистика равна 11.070497693516351\n",
      "p-value = 0.8869140989455816\n",
      "Нет оснований отвергать нулевую гипотезу\n"
     ]
    }
   ],
   "source": [
    "hypo(res, 0.05)"
   ]
  },
  {
   "cell_type": "markdown",
   "metadata": {},
   "source": [
    "Мы не имеем оснований для того, чтобы отвергать нулевую гипотезу, то есть мы, скорее всего, получили почти равновероятные исходы."
   ]
  }
 ],
 "metadata": {
  "kernelspec": {
   "display_name": "Python 3",
   "language": "python",
   "name": "python3"
  },
  "language_info": {
   "codemirror_mode": {
    "name": "ipython",
    "version": 3
   },
   "file_extension": ".py",
   "mimetype": "text/x-python",
   "name": "python",
   "nbconvert_exporter": "python",
   "pygments_lexer": "ipython3",
   "version": "3.7.7"
  }
 },
 "nbformat": 4,
 "nbformat_minor": 4
}
